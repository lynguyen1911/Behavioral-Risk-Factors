{
 "cells": [
  {
   "cell_type": "code",
   "execution_count": 1,
   "metadata": {},
   "outputs": [],
   "source": [
    "import pandas as pd\n",
    "import numpy as np"
   ]
  },
  {
   "cell_type": "code",
   "execution_count": 2,
   "metadata": {},
   "outputs": [],
   "source": [
    "df = pd.read_csv('diabeted.csv')\n",
    "df2 = df.copy()\n"
   ]
  },
  {
   "cell_type": "code",
   "execution_count": 3,
   "metadata": {},
   "outputs": [],
   "source": [
    "missing_values = [\"n/a\", \"na\", \"Not asked or Missing\", \"Don't know/Not sure\", \"Refused\"]\n",
    "df2 = pd.read_csv(\"diabeted.csv\", na_values = missing_values)"
   ]
  },
  {
   "cell_type": "code",
   "execution_count": 4,
   "metadata": {},
   "outputs": [
    {
     "name": "stdout",
     "output_type": "stream",
     "text": [
      "DIABETE3       4\n",
      "VETERAN3      11\n",
      "FRUIT1      1260\n",
      "VEGETAB1    1422\n",
      "dtype: int64\n"
     ]
    }
   ],
   "source": [
    "print(df2.isnull().sum())"
   ]
  },
  {
   "cell_type": "code",
   "execution_count": 6,
   "metadata": {},
   "outputs": [],
   "source": [
    "df2.dropna(inplace = True)"
   ]
  },
  {
   "cell_type": "code",
   "execution_count": 7,
   "metadata": {},
   "outputs": [
    {
     "data": {
      "text/html": [
       "<div>\n",
       "<style scoped>\n",
       "    .dataframe tbody tr th:only-of-type {\n",
       "        vertical-align: middle;\n",
       "    }\n",
       "\n",
       "    .dataframe tbody tr th {\n",
       "        vertical-align: top;\n",
       "    }\n",
       "\n",
       "    .dataframe thead th {\n",
       "        text-align: right;\n",
       "    }\n",
       "</style>\n",
       "<table border=\"1\" class=\"dataframe\">\n",
       "  <thead>\n",
       "    <tr style=\"text-align: right;\">\n",
       "      <th></th>\n",
       "      <th>DIABETE3</th>\n",
       "      <th>VETERAN3</th>\n",
       "      <th>FRUIT1</th>\n",
       "      <th>VEGETAB1</th>\n",
       "    </tr>\n",
       "  </thead>\n",
       "  <tbody>\n",
       "    <tr>\n",
       "      <th>0</th>\n",
       "      <td>No</td>\n",
       "      <td>Yes</td>\n",
       "      <td>Times per week</td>\n",
       "      <td>Times per week</td>\n",
       "    </tr>\n",
       "    <tr>\n",
       "      <th>1</th>\n",
       "      <td>No</td>\n",
       "      <td>No</td>\n",
       "      <td>Times per month</td>\n",
       "      <td>Times per month</td>\n",
       "    </tr>\n",
       "    <tr>\n",
       "      <th>2</th>\n",
       "      <td>No</td>\n",
       "      <td>No</td>\n",
       "      <td>Times per week</td>\n",
       "      <td>Times per week</td>\n",
       "    </tr>\n",
       "    <tr>\n",
       "      <th>4</th>\n",
       "      <td>No</td>\n",
       "      <td>No</td>\n",
       "      <td>Times per day</td>\n",
       "      <td>Times per day</td>\n",
       "    </tr>\n",
       "    <tr>\n",
       "      <th>6</th>\n",
       "      <td>No</td>\n",
       "      <td>No</td>\n",
       "      <td>Times per week</td>\n",
       "      <td>Times per month</td>\n",
       "    </tr>\n",
       "    <tr>\n",
       "      <th>...</th>\n",
       "      <td>...</td>\n",
       "      <td>...</td>\n",
       "      <td>...</td>\n",
       "      <td>...</td>\n",
       "    </tr>\n",
       "    <tr>\n",
       "      <th>12333</th>\n",
       "      <td>No</td>\n",
       "      <td>No</td>\n",
       "      <td>Times per week</td>\n",
       "      <td>Times per week</td>\n",
       "    </tr>\n",
       "    <tr>\n",
       "      <th>12334</th>\n",
       "      <td>No</td>\n",
       "      <td>No</td>\n",
       "      <td>Times per week</td>\n",
       "      <td>Never</td>\n",
       "    </tr>\n",
       "    <tr>\n",
       "      <th>12335</th>\n",
       "      <td>Yes</td>\n",
       "      <td>No</td>\n",
       "      <td>Times per week</td>\n",
       "      <td>Times per month</td>\n",
       "    </tr>\n",
       "    <tr>\n",
       "      <th>12336</th>\n",
       "      <td>No</td>\n",
       "      <td>No</td>\n",
       "      <td>Times per week</td>\n",
       "      <td>Times per day</td>\n",
       "    </tr>\n",
       "    <tr>\n",
       "      <th>12337</th>\n",
       "      <td>No</td>\n",
       "      <td>No</td>\n",
       "      <td>Times per week</td>\n",
       "      <td>Times per day</td>\n",
       "    </tr>\n",
       "  </tbody>\n",
       "</table>\n",
       "<p>10793 rows × 4 columns</p>\n",
       "</div>"
      ],
      "text/plain": [
       "      DIABETE3 VETERAN3           FRUIT1         VEGETAB1\n",
       "0           No      Yes   Times per week   Times per week\n",
       "1           No       No  Times per month  Times per month\n",
       "2           No       No   Times per week   Times per week\n",
       "4           No       No    Times per day    Times per day\n",
       "6           No       No   Times per week  Times per month\n",
       "...        ...      ...              ...              ...\n",
       "12333       No       No   Times per week   Times per week\n",
       "12334       No       No   Times per week            Never\n",
       "12335      Yes       No   Times per week  Times per month\n",
       "12336       No       No   Times per week    Times per day\n",
       "12337       No       No   Times per week    Times per day\n",
       "\n",
       "[10793 rows x 4 columns]"
      ]
     },
     "execution_count": 7,
     "metadata": {},
     "output_type": "execute_result"
    }
   ],
   "source": [
    "df2"
   ]
  },
  {
   "cell_type": "code",
   "execution_count": 9,
   "metadata": {},
   "outputs": [],
   "source": [
    "cols_to_clean = [\"DIABETE3\"]\n",
    "for col in cols_to_clean:\n",
    "    df2[col] = df2[col].map(lambda x:x.replace(\"No,pre-diabetes or borderline diabetes\",\"No\"))\n",
    "    df2[col] = df2[col].map(lambda x:x.replace(\"Yes, but female told only during pregnancy\",\"No\"))"
   ]
  },
  {
   "cell_type": "code",
   "execution_count": 12,
   "metadata": {},
   "outputs": [
    {
     "name": "stdout",
     "output_type": "stream",
     "text": [
      "0         No\n",
      "1         No\n",
      "2         No\n",
      "4         No\n",
      "6         No\n",
      "        ... \n",
      "12333     No\n",
      "12334     No\n",
      "12335    Yes\n",
      "12336     No\n",
      "12337     No\n",
      "Name: DIABETE3, Length: 10793, dtype: object\n"
     ]
    }
   ],
   "source": [
    "print(df2[\"DIABETE3\"])"
   ]
  },
  {
   "cell_type": "code",
   "execution_count": 13,
   "metadata": {},
   "outputs": [
    {
     "data": {
      "text/html": [
       "<div>\n",
       "<style scoped>\n",
       "    .dataframe tbody tr th:only-of-type {\n",
       "        vertical-align: middle;\n",
       "    }\n",
       "\n",
       "    .dataframe tbody tr th {\n",
       "        vertical-align: top;\n",
       "    }\n",
       "\n",
       "    .dataframe thead th {\n",
       "        text-align: right;\n",
       "    }\n",
       "</style>\n",
       "<table border=\"1\" class=\"dataframe\">\n",
       "  <thead>\n",
       "    <tr style=\"text-align: right;\">\n",
       "      <th></th>\n",
       "      <th>DIABETE3</th>\n",
       "      <th>VETERAN3</th>\n",
       "      <th>FRUIT1</th>\n",
       "      <th>VEGETAB1</th>\n",
       "    </tr>\n",
       "  </thead>\n",
       "  <tbody>\n",
       "  </tbody>\n",
       "</table>\n",
       "</div>"
      ],
      "text/plain": [
       "Empty DataFrame\n",
       "Columns: [DIABETE3, VETERAN3, FRUIT1, VEGETAB1]\n",
       "Index: []"
      ]
     },
     "execution_count": 13,
     "metadata": {},
     "output_type": "execute_result"
    }
   ],
   "source": [
    "df2.iloc[1298:1230,]"
   ]
  },
  {
   "cell_type": "code",
   "execution_count": 11,
   "metadata": {},
   "outputs": [],
   "source": [
    "df2.to_csv('diabeted_final.csv', index = False)"
   ]
  },
  {
   "cell_type": "code",
   "execution_count": null,
   "metadata": {},
   "outputs": [],
   "source": [
    "print(df2[\"DIABETE3\"])"
   ]
  }
 ],
 "metadata": {
  "kernelspec": {
   "display_name": "Python 3",
   "language": "python",
   "name": "python3"
  },
  "language_info": {
   "codemirror_mode": {
    "name": "ipython",
    "version": 3
   },
   "file_extension": ".py",
   "mimetype": "text/x-python",
   "name": "python",
   "nbconvert_exporter": "python",
   "pygments_lexer": "ipython3",
   "version": "3.8.3"
  }
 },
 "nbformat": 4,
 "nbformat_minor": 4
}
